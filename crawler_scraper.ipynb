{
 "cells": [
  {
   "cell_type": "code",
   "execution_count": 20,
   "metadata": {
    "collapsed": false
   },
   "outputs": [],
   "source": [
    "import boto3\n",
    "#client = boto3.client('cloudsearchdomain', 'search-nutch-iddmo6wqu6phqqdrer6rzc473i.us-east-1.es.amazonaws.com')\n",
    "cloudsearch = boto3.client('cloudsearch') # we store credentials in ~/.aws/\n",
    "endpoint_url = cloudsearch.describe_domains()['DomainStatusList'][0]['SearchService']['Endpoint']\n",
    "client = boto3.client('cloudsearchdomain', endpoint_url='https://' + (endpoint_url))"
   ]
  },
  {
   "cell_type": "code",
   "execution_count": 21,
   "metadata": {
    "collapsed": false
   },
   "outputs": [
    {
     "name": "stdout",
     "output_type": "stream",
     "text": [
      "search-nutch-cloudforums-2ywrag4ovvzsopfhxpj3sg3g4u.us-east-1.cloudsearch.amazonaws.com\n"
     ]
    }
   ],
   "source": [
    "print (endpoint_url)"
   ]
  },
  {
   "cell_type": "code",
   "execution_count": 22,
   "metadata": {
    "collapsed": true
   },
   "outputs": [],
   "source": [
    "client = boto3.client('cloudsearchdomain', endpoint_url='https://' + (endpoint_url))"
   ]
  },
  {
   "cell_type": "code",
   "execution_count": 43,
   "metadata": {
    "collapsed": false
   },
   "outputs": [
    {
     "name": "stdout",
     "output_type": "stream",
     "text": [
      "[\"What keeps Amazon Web Services cloud on top? SearchCloudComputing Search the TechTarget Network Sign-up now. Start my free, unlimited access. Login Search Cloud Computing SearchServerVirtualization SearchVMware SearchVirtualDesktop SearchAWS SearchDataCenter SearchWindowsServer SearchSOA SearchCRM Topic Amazon Web Services cloud Public cloud View All IaaS cloud deployment Open source cloud computing Public cloud providers Applications View All Cloud desktop and application delivery Enterprise application integration with cloud providers Mobile cloud applications Network and application performance in the cloud Software as a Service and cloud computing XaaS Costs and management View All Cloud computing pricing and economics Cloud disaster recovery Cloud management and monitoring Negotiating service-level agreements and billing with cloud providers Development View All Big data and BI Building scalable websites in the cloud Cloud APIs and frameworks Cloud development and testing Cloud interoperability and portability High-performance computing in the cloud Platform as a Service and cloud computing Security View All Cloud computing standards and compliance Cloud governance Data security in the cloud Private cloud View All Hybrid cloud Cloud architecture design Cloud computing and virtualization Private cloud providers Public cloud View All Amazon Web Services cloud IaaS cloud deployment Open source cloud computing Public cloud providers Topics Archive View All Building a private cloud infrastructure Cloud backup Cloud computing business intelligence Cloud computing for VARs Cloud Computing Resources Cloud computing strategies for CIOs Use cases Infrastructure Cloud service provider business models CRM in the cloud Data center colocation services Data quality in test and development Linux and cloud computing Networking and cloud infrastructure planning Oracle in the cloud Public cloud computing services SaaS and cloud computing security SAP in the cloud SOA and cloud development VMware cloud computing WANs for cloud computing Windows Azure development Please select a category Applications Costs and management Development Security Private cloud Public cloud Section Get Started News Get Started Evaluate Manage Problem Solve Sponsored Communities What keeps Amazon Web Services cloud on top? by Caitlin White Site Editor Amazon Web Services shows no sign of handing over the throne as cloud king. Better stay up-to-date on its services and role in the cloud market. This Article Covers Amazon Web Services cloud RELATED TOPICS IaaS cloud deployment Open source cloud computing Public cloud providers Looking for something else? In cloud storage, options abound IaaS cloud computing exchange could clear the path to true multi-cloud Is Amazon CloudSearch superior to do-it-yourself search tools? TECHNOLOGIES Cloud computing + Show More In this Article Share this item with your network: Related Content AWS Spot Fleets (Amazon Web Services Spot Fleets) – SearchAWS Complex Amazon EC2 API creates steep learning curve – SearchAWS AWS On-Demand Instances (Amazon Web Services ... – SearchAWS Sponsored News Effectively Manage Cost for AWS and Cloud Services –Splunk Prevent Vulnerability in the Cloud: Fulfill Your End of the ... –Splunk See More Vendor Resources Key Considerations and Features of AWS –Looker CW Special Report: Amazon Web Services (AWS) –ComputerWeekly.com Amazon Web Services has been the frontrunner in the cloud computing race for years, and it doesn't seem to be slowing down . AWS continues to make moves to keep its customers happy and entice enterprise IT, and it has an array of cloud services that gives customers loads of options to best fit their IT environments. But just because it's the incumbent cloud leader doesn't mean all IT admins are up to speed on the ins and outs of Amazon Web Services cloud . These frequently asked questions and answers can help fill in the blanks regarding Amazon and where it stands in the cloud. Are businesses really putting their cloud computing faith in a Web retailer like Amazon? In a word: Yes. Amazon Web Services continues to drink other IT titans' milkshake in the cloud. Other vendors, such as Oracle and Microsoft, continue to work to compete and fight their way to the top. AWS made number one on the Top 10 cloud computing providers list at SearchCloudComputing.com for 2010, 2011 and 2012. And despite recent, well-publicized outages , it shows no signs of losing its throne as cloud computing king. What types of computing resources run on Amazon Elastic Compute Cloud (EC2) and how can a CTO determine the best fit financially? Three types of computing instances run on top of Amazon EC2 , each with its own pricing structure: on-demand instances, reserved instances and spot instances. To find out the value for your company, first determine which of these three instances is the best fit for your IT environment. With on-demand, as the name implies, you only pay for the time you use the server; there is no commitment. CTOs can purchase reserved instances ahead of time for a discounted hourly rate, generally when undergoing a larger job. Spot instances were created as an incentive for companies running jobs during times of underutilization. Spot instance pricing fluctuates according to demand and compute capacity. There has been a lot of talk about price cuts among cloud providers, including Amazon Web Services , so it's important to research what your computing needs to find the best financial fit with Amazon EC2 instances . If I over-purchase compute capacity through AWS, will I have to consume those losses? Purchasing on-demand, reserved or spot instances can mean you're left with computing capacity for which you have already paid but will not use. And this can only make the decision to go with on-demand instances or paying upfront for instances at a discounted rate a difficult one. However, the Amazon Reserved Instance Marketplace , which is designed to help customers recoup the losses from over-purchasing instances, makes cloud capacity planning flexible and a bit less worrisome. What are good candidates for Amazon EC2 spot instances? Amazon Web Services continues to drink other IT titans' milkshakes in the cloud. When choosing among Amazon EC2 instance types, you have to take into account performance expectations . Time-sensitive applications with little end-user interaction generally are good candidates for spot instances. Such applications could include big data analytics and testing . However, you can encounter some problems running big data analytics on AWS spot instances. If the data you intend to analyze doesn't already reside on public cloud, the costs of migrating could negate any cost benefits from using spot instances . Incidentally, AWS offers its own cloud-based Hadoop service for big data analytics, called Amazon Elastic Map Reduce . What application-programming interface (API) does Amazon Web Services cloud support? AWS has its own API , and that API is the de facto standard in the cloud market . However, the battle between the AWS API and other cloud providers' API is raising enterprises' concerns about vendor lock-in and portability. Citrix and Eucalyptus, among others, use the Amazon API , but other cloud providers are teaming with OpenStack on the other side of the API war. Caitlin White is associate site editor for SearchCloudComputing.com. Contact her at cwhite@techtarget.com . This was last published in October 2012 Dig Deeper on Amazon Web Services cloud All News Get Started Evaluate Manage Problem Solve New Google cloud service takes on AWS Spot Instances OpenStack private cloud meets high IO demands In cloud storage, options abound IaaS cloud computing exchange could clear the path to true multi-cloud Load More View All New Google cloud service takes on AWS Spot Instances OpenStack private cloud meets high IO demands Climbing out of an AWS EC2 cost sinkhole AWS cloud data warehouse offers cheaper alternative to Oracle database Load More View All News In cloud storage, options abound IaaS cloud computing exchange could clear the path to true multi-cloud Is Amazon CloudSearch superior to do-it-yourself search tools? The state of the enterprise cloud and prepping for AWS re:Invent 2013 View All Get started In cloud storage, options abound IaaS cloud computing exchange could clear the path to true multi-cloud Climbing out of an AWS EC2 cost sinkhole AWS cloud data warehouse offers cheaper alternative to Oracle database Load More View All Evaluate In cloud storage, options abound Climbing out of an AWS EC2 cost sinkhole AWS shops eye Google Compute Engine live migration The state of the enterprise cloud and prepping for AWS re:Invent 2013 Load More View All Manage Is Amazon CloudSearch superior to do-it-yourself search tools? Amazon, Microsoft focus on cloud development tools Is Amazon the cloud leader or straggler? View All Problem solve PRO+ Content Find more PRO+ content and other member only offers, here. E-Chapter Deciding what goes where in a multi-cloud environment E-Chapter Why you'll likely need to work with multiple cloud providers Join the conversation 1 \\xa0comment Send me notifications when other members comment. Add My Comment Register Login Forgot your password? Forgot your password? No problem! Submit your e-mail address below. We'll send you an email containing your password. Submit Your password has been sent to: By submitting you agree to receive email from TechTarget and its partners. If you reside outside of the United States, you consent to having your personal data transferred to and processed in the United States. Privacy Please create a username to comment. Oldest\\xa0 Newest\\xa0 [-] AnonymousUser - 5 Nov 2012 7:14 AM The article doesn't fulfill the promise made in the title - what keeps AWS on top? What is does say that AWS has been and is top for 4 years, there are different type of EC2 instances with nuances that one must consider for different use cases, a marketplace of oversubscribed capacity alleviates concerns, and that their APIs are proprietary with OpenStack attempting to standardize API. Is the author implying the availability of on-demand/reserved/spot instances and instance marketplace is the reason AWS is on top? Add My Comment Cancel \\xa0 -ADS BY GOOGLE Latest TechTarget resources Server Virtualization VMWare Virtual Desktop AWS Data Center Windows Server SOA CRM Search Server Virtualization Expert advice for companies hesitant to implement virtualization Matthew Portnoy, author of Virtualization Essentials, 2nd Edition , answers our questions about virtualization basics and ... Fine-tune your virtualization performance management skills With content that touches on evaluating, managing and troubleshooting potential problems, this guide will give you a ... Familiarize yourself with Microsoft SCVMM features and uses With Microsoft SCVMM, you can leverage templates and profiles, deploy a Hyper-V cluster and create a database backup plan, among ... Search VMware VMware vSphere 6.5, VSAN among hottest topics in 2016 Upgrades gave a boost to a lot of VMware's existing products, like vSphere and VSAN, and helped erase some doubt from early on in... VMware vCenter Server 6.5 improves uptime for High Availability Downtime can be costly and dangerous for businesses. The latest version of VMware High Availability, included in Sphere 6.5, ... New VMware VIC components set to challenge Docker containers VMware has introduced two new components, Harbor for container images and Admiral for managing containers, to vSphere Integrated ... Search Virtual Desktop VMware HCI and VDI form a storage-focused tag team By combining its HCI offering, which is powered by VSAN, with Horizon View for VDI, VMware offers a storage-centric way to deploy... Desktop-as-a-service market faces fears about IT control DaaS helps organizations avoid the complexity and high cost of VDI, but some organizations have cloud computing security concerns... Discover the top sources of shadow IT risk for VDI shops The presence of shadow IT is a challenge for VDI shops. Users can circumvent IT with unauthorized applications and cloud-hosted ... Search AWS AWS Lambda architecture presents cost savings, tradeoffs AWS Lambda can reduce infrastructure and cloud costs if implemented properly, but that means accepting some drawbacks of the ... Learn from past mistakes to avoid Amazon lock-in Oracle, IBM and Microsoft all generated past worries of vendor lock-in. That same concern exists with AWS. Don't let history ... AWS Blox puzzles fans of containers in cloud computing The container orchestration pool is already crowded and competitive, and AWS has waded in with an unusual play. Search Data Center Top data center market news stories of 2016 Outages, acquisitions and server innovations piqued the interest of enterprise IT shops in 2016. Here's a look back at five of ... Consider these Linux I/O scheduler options for storage performance To optimize Linux performance, IT teams should examine the I/O scheduler currently in use, and evaluate alternatives, such as ... Build a data center shutdown procedure to prepare for the worst A data center shutdown checklist helps IT teams focus on backup, testing and system verification before pulling the plug and ... Search Windows Server System Center 2016 new features -- and changes -- worth noting Microsoft integrates key Windows Server 2016 features, such as Nano Server and data protection, with the new version of System ... Windows Server Migration Tools make file share moves less taxing Administrators can hit a few snags when migrating a Windows file server, but a free Microsoft utility and some PowerShell ... Tailor a WSUS server setup to any Windows environment Administrators can configure a Windows Server Update Services server -- or several -- to manage and distribute updates from ... Search SOA Challenges of checkpointing in distributed systems include security Transparent checkpointing can help developers, but challenges crop up with security and storage. A computer science professor ... How transparent application checkpointing will impact developers Developers have traditionally been required to write new checkpointing for individual programs. Professor Gene Cooperman explains... Make sure your microservice design supports reuse and avoids redundancy Microservices are supposed to make life easier. But when improperly managed, it can do just the opposite. Tom Nolle explains what... Search CRM Why you should care about Agile marketing For marketers, an accelerated pace of change is as inevitable as death and taxes. Get ahead of modern marketing strategies by ... Social CRM software is more than just a spin on traditional CRM Social CRM software is more than just the latest trend in the CRM world. With it, enterprises can intimately engage with their ... What to look for in marketing automation software If you're looking for marketing automation software, go beyond the basic features and consider new capabilities for mobile, ... About Us Contact Us Privacy Policy Advertisers Business Partners Media Kit Corporate Site Contributors Reprints Archive Site Map Answers E-Products Events Features Guides Opinions Photo Stories Quizzes Tips Tutorials Videos All Rights Reserved, Copyright 2010 - 2016 , TechTarget Close\"]\n"
     ]
    }
   ],
   "source": [
    "result = client.search(query='Amazon Web Service')\n",
    "print (result['hits']['hit'][0]['fields']['content'])"
   ]
  },
  {
   "cell_type": "code",
   "execution_count": null,
   "metadata": {
    "collapsed": true
   },
   "outputs": [],
   "source": []
  }
 ],
 "metadata": {
  "kernelspec": {
   "display_name": "Python 3",
   "language": "python",
   "name": "python3"
  },
  "language_info": {
   "codemirror_mode": {
    "name": "ipython",
    "version": 3
   },
   "file_extension": ".py",
   "mimetype": "text/x-python",
   "name": "python",
   "nbconvert_exporter": "python",
   "pygments_lexer": "ipython3",
   "version": "3.5.1"
  }
 },
 "nbformat": 4,
 "nbformat_minor": 0
}
